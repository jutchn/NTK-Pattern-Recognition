{
  "nbformat": 4,
  "nbformat_minor": 0,
  "metadata": {
    "colab": {
      "name": "Copy of perm_inv_dictionary_learn",
      "provenance": [],
      "collapsed_sections": []
    },
    "kernelspec": {
      "name": "python3",
      "display_name": "Python 3"
    },
    "language_info": {
      "name": "python"
    },
    "accelerator": "GPU"
  },
  "cells": [
    {
      "cell_type": "code",
      "metadata": {
        "id": "1dGyPu8pHARx"
      },
      "source": [
        "import os\n",
        "from google.colab import files\n",
        "import copy\n",
        "import torch\n",
        "import torchvision\n",
        "from torch import nn\n",
        "from torch.autograd import Variable\n",
        "from torch.utils.data import DataLoader\n",
        "from torchvision import transforms\n",
        "from torchvision.datasets import MNIST\n",
        "from torchvision.utils import save_image\n",
        "from torch.utils.data import TensorDataset\n",
        "\n",
        "import tensorflow as tf\n",
        "\n",
        "from tensorflow import keras\n",
        "import pickle\n",
        "\n",
        "import seaborn as sns\n",
        "import torch.optim as optim\n",
        "\n",
        "import matplotlib.pyplot as plt\n",
        "import numpy as np\n",
        "import copy\n",
        "\n",
        "import sklearn\n",
        "from sklearn.datasets import make_sparse_coded_signal\n",
        "from sklearn.decomposition import DictionaryLearning\n",
        "\n",
        "from sklearn.utils import check_random_state\n"
      ],
      "execution_count": null,
      "outputs": []
    },
    {
      "cell_type": "code",
      "metadata": {
        "id": "GTs4u8ZtbUkV"
      },
      "source": [
        "def make_sparse_coded_signal1(n_samples, *, n_components, n_features,\n",
        "                             n_nonzero_coefs, random_state=None):\n",
        "    \"\"\"Generate a signal as a sparse combination of dictionary elements.\n",
        "    Returns a matrix Y = DX, such as D is (n_features, n_components),\n",
        "    X is (n_components, n_samples) and each column of X has exactly\n",
        "    n_nonzero_coefs non-zero elements.\n",
        "    Read more in the :ref:`User Guide <sample_generators>`.\n",
        "    Parameters\n",
        "    ----------\n",
        "    n_samples : int\n",
        "        Number of samples to generate\n",
        "    n_components : int\n",
        "        Number of components in the dictionary\n",
        "    n_features : int\n",
        "        Number of features of the dataset to generate\n",
        "    n_nonzero_coefs : int\n",
        "        Number of active (non-zero) coefficients in each sample\n",
        "    random_state : int, RandomState instance or None, default=None\n",
        "        Determines random number generation for dataset creation. Pass an int\n",
        "        for reproducible output across multiple function calls.\n",
        "        See :term:`Glossary <random_state>`.\n",
        "    Returns\n",
        "    -------\n",
        "    data : ndarray of shape (n_features, n_samples)\n",
        "        The encoded signal (Y).\n",
        "    dictionary : ndarray of shape (n_features, n_components)\n",
        "        The dictionary with normalized components (D).\n",
        "    code : ndarray of shape (n_components, n_samples)\n",
        "        The sparse code such that each column of this matrix has exactly\n",
        "        n_nonzero_coefs non-zero items (X).\n",
        "    \"\"\"\n",
        "    generator = check_random_state(random_state)\n",
        "\n",
        "    # generate dictionary\n",
        "    D = generator.randn(n_features, n_components)\n",
        "    D /= np.sqrt(np.sum((D ** 2), axis=0)) \n",
        "\n",
        "    #D=perm_free(D)\n",
        "\n",
        "\n",
        "    # generate code\n",
        "    X = np.zeros((n_components, n_samples))\n",
        "\n",
        "\n",
        "\n",
        "    for i in range(n_samples):\n",
        "        idx = np.arange(n_components)\n",
        "        generator.shuffle(idx)\n",
        "        idx = idx[:n_nonzero_coefs]\n",
        "        X[idx, i] = generator.randn(n_nonzero_coefs)\n",
        "\n",
        "\n",
        "    (D,X)=perm_free_DS(D,X)\n",
        "\n",
        "    # encode signal\n",
        "    Y = np.dot(D, X)\n",
        "\n",
        "    return map(np.squeeze, (Y, D, X))\n"
      ],
      "execution_count": null,
      "outputs": []
    },
    {
      "cell_type": "code",
      "metadata": {
        "id": "y_aBeYnIp75I"
      },
      "source": [
        "def perm_free(D):\n",
        "    #return D\n",
        "    D=D\n",
        "    for i in range(D.shape[1]):\n",
        "        #print(np.sign( np.sum(D[i,:]) ))\n",
        "        D[:,i]*=np.sign( np.sum(D[:,i]) )\n",
        "\n",
        "    col_sums=[np.sum(D[:,i]) for i in range(D.shape[1])]\n",
        "    idx=list(range(D.shape[1]))\n",
        "    new_idx=np.argsort(col_sums)[::-1]\n",
        "    D_new=D[:,new_idx]\n",
        "    \n",
        "    return D_new"
      ],
      "execution_count": null,
      "outputs": []
    },
    {
      "cell_type": "code",
      "metadata": {
        "id": "pgiG6tB5_JTy"
      },
      "source": [
        "# ax=[2,1,3,4]\n",
        "# idx=np.argsort(ax)[::-1]\n",
        "# ls=[ax[el] for el in idx]\n",
        "# print(ls)"
      ],
      "execution_count": null,
      "outputs": []
    },
    {
      "cell_type": "code",
      "metadata": {
        "id": "ssGNIESmqAcJ"
      },
      "source": [
        "def perm_free_DS(D, code):\n",
        "    #return (D,code)\n",
        "    #D=D\n",
        "    for i in range(D.shape[1]):\n",
        "        #print(np.sign( np.sum(D[i,:]) ))\n",
        "        D[:,i]*=np.sign( np.sum(D[:,i]) )\n",
        "\n",
        "    col_sums=[np.sum(D[:,i]) for i in range(D.shape[1])]\n",
        "    idx=list(range(D.shape[1]))\n",
        "    #print('idx',idx)\n",
        "    new_idx=np.argsort(col_sums)[::-1]\n",
        "\n",
        "    #print('new_idx',new_idx)\n",
        "    D_new=D[:,new_idx]\n",
        "\n",
        "    code=code[new_idx,:]\n",
        "    \n",
        "    return (D_new, code)"
      ],
      "execution_count": null,
      "outputs": []
    },
    {
      "cell_type": "code",
      "metadata": {
        "id": "tWWyw-CAJCke"
      },
      "source": [
        "n_nonzero_coefs=10\n",
        "\n",
        "n_comp=15\n",
        "\n",
        "##### Default #######\n",
        "# X, dictionary, code = make_sparse_coded_signal(\n",
        "# n_samples=10, n_components=n_comp, n_features=20, n_nonzero_coefs=n_nonzero_coefs,random_state=42,\n",
        "# )\n",
        "\n",
        "####### custom #######\n",
        "X, dictionary, code = make_sparse_coded_signal1(\n",
        "n_samples=200, n_components=n_comp, n_features=20, n_nonzero_coefs=n_nonzero_coefs,random_state=42,\n",
        ")\n"
      ],
      "execution_count": null,
      "outputs": []
    },
    {
      "cell_type": "code",
      "metadata": {
        "id": "TrT3urc8GHdy"
      },
      "source": [
        "# (dictionary, code)=perm_free_DS(dictionary, code)\n",
        "# X=dictionary.dot(code)"
      ],
      "execution_count": null,
      "outputs": []
    },
    {
      "cell_type": "code",
      "metadata": {
        "colab": {
          "base_uri": "https://localhost:8080/"
        },
        "id": "OfHN21KtKpVt",
        "outputId": "d3674ec6-cae4-4ed6-d5d6-8619c2468fba"
      },
      "source": [
        "dictionary.shape"
      ],
      "execution_count": null,
      "outputs": [
        {
          "output_type": "execute_result",
          "data": {
            "text/plain": [
              "(20, 15)"
            ]
          },
          "metadata": {},
          "execution_count": 73
        }
      ]
    },
    {
      "cell_type": "code",
      "metadata": {
        "id": "wZ6DAxjZHWP0"
      },
      "source": [
        "# n_nonzero_coefs=10\n",
        "\n",
        "# n_comp=15\n",
        "\n",
        "# X, dictionary, code = make_sparse_coded_signal(\n",
        "# n_samples=100, n_components=n_comp, n_features=20, n_nonzero_coefs=n_nonzero_coefs,random_state=42,\n",
        "# )\n"
      ],
      "execution_count": null,
      "outputs": []
    },
    {
      "cell_type": "code",
      "metadata": {
        "id": "HciI2HL8T4-r"
      },
      "source": [
        "\n",
        "# print(X.shape)\n",
        "# print(dictionary.shape)\n",
        "# print(code.shape)"
      ],
      "execution_count": null,
      "outputs": []
    },
    {
      "cell_type": "markdown",
      "metadata": {
        "id": "9pawmi9bLbXr"
      },
      "source": [
        "Idea (by Anirvan): Feed in the X that we obtain here into an autoencoder. "
      ]
    },
    {
      "cell_type": "markdown",
      "metadata": {
        "id": "jMQ66H5eLRaY"
      },
      "source": [
        "# Dictionary learning"
      ]
    },
    {
      "cell_type": "code",
      "metadata": {
        "id": "4O0dQHAaLO9r"
      },
      "source": [
        "##alpha=1 (regularization parameter)\n",
        "dict_learner = DictionaryLearning(n_components=n_comp, transform_algorithm='lasso_lars'\\\n",
        "                                  , max_iter=1000, random_state=42)\n",
        "X_transformed = dict_learner.fit_transform(X)"
      ],
      "execution_count": null,
      "outputs": []
    },
    {
      "cell_type": "code",
      "metadata": {
        "colab": {
          "base_uri": "https://localhost:8080/"
        },
        "id": "zvmv6CjRid7-",
        "outputId": "e9848308-2319-4319-d40d-c7031d7be24f"
      },
      "source": [
        "#X_transformed=perm_free(X_transformed)\n",
        "\n",
        "(X_transformed, dict_learner.components_) = \\\n",
        "perm_free_DS(X_transformed, dict_learner.components_)\n",
        "\n",
        "#(dictionary,code)=perm_free_DS(dictionary,code)\n",
        "\n",
        "X=dictionary.dot(code)\n",
        "\n",
        "print(X.shape)\n",
        "print(X_transformed.shape)"
      ],
      "execution_count": null,
      "outputs": [
        {
          "output_type": "stream",
          "name": "stdout",
          "text": [
            "(20, 200)\n",
            "(20, 15)\n"
          ]
        }
      ]
    },
    {
      "cell_type": "code",
      "metadata": {
        "colab": {
          "base_uri": "https://localhost:8080/"
        },
        "id": "Ds9jCN_lUZXg",
        "outputId": "96d997ed-6cee-4b61-a38c-7cc688b1a496"
      },
      "source": [
        "print('Y=DX')\n",
        "print(' Y:', X.shape)\n",
        "print('Dictionary called D:',dictionary.shape)\n",
        "print('Code (called X):',code.shape)\n",
        "print( 'Code  has %d n_non_zero coefficients'%n_nonzero_coefs )"
      ],
      "execution_count": null,
      "outputs": [
        {
          "output_type": "stream",
          "name": "stdout",
          "text": [
            "Y=DX\n",
            " Y: (20, 200)\n",
            "Dictionary called D: (20, 15)\n",
            "Code (called X): (15, 200)\n",
            "Code  has 10 n_non_zero coefficients\n"
          ]
        }
      ]
    },
    {
      "cell_type": "code",
      "metadata": {
        "colab": {
          "base_uri": "https://localhost:8080/"
        },
        "id": "ADhNoWn1HfIR",
        "outputId": "5041665e-8e9f-49bb-a3fd-fef45262c839"
      },
      "source": [
        "## Fraction of zero elements. \n",
        "np.mean(X_transformed == 0)"
      ],
      "execution_count": null,
      "outputs": [
        {
          "output_type": "execute_result",
          "data": {
            "text/plain": [
              "0.8433333333333334"
            ]
          },
          "metadata": {},
          "execution_count": 79
        }
      ]
    },
    {
      "cell_type": "code",
      "metadata": {
        "id": "E0RV8rj6HhOw"
      },
      "source": [
        "X_hat = X_transformed @ dict_learner.components_"
      ],
      "execution_count": null,
      "outputs": []
    },
    {
      "cell_type": "markdown",
      "metadata": {
        "id": "2zZ7g7_Rcjdn"
      },
      "source": [
        "Compare the average squared euclidean norm of the reconstruction error of the sparse coded signal relative to the squared euclidean norm of the original signal"
      ]
    },
    {
      "cell_type": "code",
      "metadata": {
        "colab": {
          "base_uri": "https://localhost:8080/"
        },
        "id": "hggEyv5ULEsW",
        "outputId": "04d6abde-fe11-4aa7-bb60-5301865555c0"
      },
      "source": [
        "print( np.mean(np.sum((X_hat - X) ** 2, axis=1) / np.sum(X ** 2, axis=1)) )\n",
        "\n",
        "#print( X_transformed.shape )\n",
        "print( np.linalg.norm(X_transformed-dictionary)/np.linalg.norm(dictionary) )\n",
        "print( np.linalg.norm(X_transformed-dictionary))\n",
        "#/np.linalg.norm(dictionary) )\n",
        "\n",
        "\n",
        "#print( np.linalg.norm(X_transformed-dictionary)/np.linalg.norm(dictionary) )"
      ],
      "execution_count": null,
      "outputs": [
        {
          "output_type": "stream",
          "name": "stdout",
          "text": [
            "1.486741006109072\n",
            "9.873820131887687\n",
            "38.24114093424853\n"
          ]
        }
      ]
    },
    {
      "cell_type": "code",
      "metadata": {
        "colab": {
          "base_uri": "https://localhost:8080/"
        },
        "id": "vdAJG6R3FRDD",
        "outputId": "0f1266dc-e6de-41a9-e28d-4722534602d0"
      },
      "source": [
        "dictionary.shape\n",
        "print( np.linalg.norm(dictionary) )\n",
        "print( np.linalg.norm(X_transformed)  )"
      ],
      "execution_count": null,
      "outputs": [
        {
          "output_type": "stream",
          "name": "stdout",
          "text": [
            "3.872983346207416\n",
            "39.21815758322915\n"
          ]
        }
      ]
    },
    {
      "cell_type": "markdown",
      "metadata": {
        "id": "qpVykvT4eSNO"
      },
      "source": [
        "($U^*,V^*$) = argmin 0.5 $|| X - U V ||_2^2$ + $\\alpha * || U ||_1$\n",
        "            (U,V)\n",
        "            with $|| V_k ||_2$ = 1 for all  0 <= k < n_components\n"
      ]
    },
    {
      "cell_type": "code",
      "metadata": {
        "colab": {
          "base_uri": "https://localhost:8080/"
        },
        "id": "O0BMFh55HmjR",
        "outputId": "17457cb9-9ae8-4462-f807-ebee7e73544e"
      },
      "source": [
        "print( 'tranformed_shape',X_transformed.shape)\n",
        "print('Dict_learner_comp shape',dict_learner.components_.shape)\n",
        "print('New_data (Yhat)',X_hat.shape)"
      ],
      "execution_count": null,
      "outputs": [
        {
          "output_type": "stream",
          "name": "stdout",
          "text": [
            "tranformed_shape (20, 15)\n",
            "Dict_learner_comp shape (15, 200)\n",
            "New_data (Yhat) (20, 200)\n"
          ]
        }
      ]
    },
    {
      "cell_type": "markdown",
      "metadata": {
        "id": "GJm5B50ceoVb"
      },
      "source": [
        "Here the X is the X we give in, U is the transformed thingy that is sparse \n",
        "Similar to D, V has its columns normailized\n",
        "i.e. for all  0 <= k < n_components (15 here), we have || V_k ||_2 = 1.\n",
        "\n",
        "(Check further into UV and the @)"
      ]
    },
    {
      "cell_type": "code",
      "metadata": {
        "colab": {
          "base_uri": "https://localhost:8080/"
        },
        "id": "p05qB0d4Kcsm",
        "outputId": "dd43d83f-11f1-427d-d468-42333d5ae7cb"
      },
      "source": [
        "print(X_hat)"
      ],
      "execution_count": null,
      "outputs": [
        {
          "output_type": "stream",
          "name": "stdout",
          "text": [
            "[[-0.6690995  -0.43704867 -0.0971785  ... -0.08344298 -0.62343596\n",
            "   0.78368503]\n",
            " [ 0.43601838  0.66749652 -0.54418303 ...  0.75374062 -0.489587\n",
            "   0.75159501]\n",
            " [ 0.08996093  1.33377834  0.32897132 ... -0.56041116  0.10561624\n",
            "  -0.96749547]\n",
            " ...\n",
            " [-0.53267719  0.3615614  -0.28486973 ...  0.36075823  0.36124715\n",
            "  -0.60614299]\n",
            " [ 0.75591906 -1.01443117  0.33791437 ...  0.34439684  0.77595975\n",
            "   0.11748738]\n",
            " [ 0.4035342   0.35350406  0.08820177 ...  0.44340633  0.33752361\n",
            "  -0.61456497]]\n"
          ]
        }
      ]
    },
    {
      "cell_type": "markdown",
      "metadata": {
        "id": "AGHmGILcAN9G"
      },
      "source": [
        "# Playing with params\n",
        "\n"
      ]
    },
    {
      "cell_type": "code",
      "metadata": {
        "id": "A9zlIG4QdEMh"
      },
      "source": [
        "# n_components1=20\n",
        "# n_nonzero_coefs1=10\n",
        "# n_samples1=200\n",
        "\n",
        "# n_features1=40\n",
        "\n",
        "# #make_sparse_coded_signal1 if with perm_free transform\n",
        "# X1, dictionary1, code1 = make_sparse_coded_signal1(\n",
        "# n_samples=n_samples1, n_components=n_components1, n_features=n_features1, n_nonzero_coefs=n_nonzero_coefs1,random_state=42,\n",
        "# )\n",
        "\n",
        "\n",
        "# ##alpha=1 (regularization parameter)\n",
        "# ## When making alpha smaller, the error is growing\n",
        "\n",
        "# dict_learner = DictionaryLearning(n_components=n_components1, transform_algorithm='lasso_lars'\\\n",
        "#                                   , random_state=42, alpha=0.1 )\n",
        "\n",
        "# X_transformed1 = dict_learner.fit_transform(X1)\n",
        "# X_transformed1 = perm_free(X_transformed1)\n",
        "\n",
        "\n",
        "# X_hat1 = X_transformed1 @ dict_learner.components_\n",
        "\n",
        "\n",
        "# np.mean(np.sum((X_hat1 - X1) ** 2, axis=1) / np.sum(X1 ** 2, axis=1))"
      ],
      "execution_count": null,
      "outputs": []
    },
    {
      "cell_type": "code",
      "metadata": {
        "id": "JMNXYVfHmpG8"
      },
      "source": [
        "#reg_params_list=[1,0.1,0.01, 0.001, 0.0001]\n",
        "reg_params_list=[1, 0.001]\n",
        "\n",
        "n_components_list=list(range(10,20,2))\n",
        "#list(range(10,40,10))\n",
        "n_features1=20\n",
        "\n",
        "n_nonzero_coefs1=10\n",
        "n_samples1=200\n",
        "\n",
        "dct_Xhat1 = {k:[] for k in reg_params_list}\n",
        "X1_dict={k:[] for k in reg_params_list}\n",
        "\n",
        "error_dct={k:[] for k in reg_params_list}\n",
        "error_ratio_dct={k:[] for k in reg_params_list}\n",
        "\n",
        "error_dict_dct={k:[] for k in reg_params_list}\n",
        "error_code_dct={k:[] for k in reg_params_list}"
      ],
      "execution_count": null,
      "outputs": []
    },
    {
      "cell_type": "code",
      "metadata": {
        "colab": {
          "base_uri": "https://localhost:8080/"
        },
        "id": "E9T9q0P9ar9x",
        "outputId": "9d0d7167-f78a-417b-a59e-3e6092c69520"
      },
      "source": [
        "type(error_dct)"
      ],
      "execution_count": null,
      "outputs": [
        {
          "output_type": "execute_result",
          "data": {
            "text/plain": [
              "dict"
            ]
          },
          "metadata": {},
          "execution_count": 48
        }
      ]
    },
    {
      "cell_type": "code",
      "metadata": {
        "colab": {
          "base_uri": "https://localhost:8080/"
        },
        "id": "UxrbCsuHsCfW",
        "outputId": "c93e483b-8c84-4604-c832-c2539778f1e8"
      },
      "source": [
        "n_components_list\n",
        "# np.save('comp',n_components_list)"
      ],
      "execution_count": null,
      "outputs": [
        {
          "output_type": "execute_result",
          "data": {
            "text/plain": [
              "[10, 12, 14, 16, 18]"
            ]
          },
          "metadata": {},
          "execution_count": 49
        }
      ]
    },
    {
      "cell_type": "code",
      "metadata": {
        "colab": {
          "base_uri": "https://localhost:8080/"
        },
        "id": "pC2OJ80mpl0-",
        "outputId": "0f3fb46d-ba72-4793-b20b-af68bfbb725e"
      },
      "source": [
        "for reg_param in reg_params_list:\n",
        "  for n_components1 in n_components_list:\n",
        "\n",
        "    #make_sparse_coded_signal1 if with perm_free transform\n",
        "    X1, dictionary1, code1 = make_sparse_coded_signal1(\n",
        "    n_samples=n_samples1, n_components=n_components1, n_features=n_features1, \\\n",
        "    n_nonzero_coefs=n_nonzero_coefs1,random_state=42,\n",
        "    )\n",
        "\n",
        "    ### Permuting all 3 quant both\n",
        "    (dictionary1, code1)=perm_free_DS(dictionary1, code1)\n",
        "    X1=dictionary1.dot(code1)\n",
        "    ### Permuting all 3 in order to make an invariant version\n",
        "\n",
        "\n",
        "    ##alpha=1 (regularization parameter)\n",
        "    ## When making alpha smaller, the error is growing\n",
        "\n",
        "    dict_learner = DictionaryLearning(n_components=n_components1,\\\n",
        "                                      transform_algorithm='lasso_lars'\\\n",
        "                                      , random_state=42, alpha=reg_param )\n",
        "\n",
        "    X_transformed1 = dict_learner.fit_transform(X1)\n",
        "    \n",
        "    #(X_transformed1, dict_learner.components_) = \\\n",
        "    #perm_free_DS(X_transformed1, dict_learner.components_)\n",
        "    \n",
        "    \n",
        "    #X_transformed1 = perm_free(X_transformed1)\n",
        "    #dict_learner.components_=perm_free(dict_learner.components_)\n",
        "\n",
        "\n",
        "    X_hat1 = X_transformed1 @ dict_learner.components_\n",
        "\n",
        "    dct_Xhat1[reg_param].append(X_hat1) \n",
        "\n",
        "    X1_dict[reg_param].append(X1)\n",
        "\n",
        "    error=np.mean(np.sum((X_hat1 - X1) ** 2, axis=1)/np.sum(X1 ** 2, axis=1)) \n",
        "\n",
        "    #error_ratio=np.mean(np.sum((X_hat1 - X1) ** 2, axis=1) / np.sum(X1 ** 2, axis=1))\n",
        "\n",
        "    error_dct[reg_param].append(error)\n",
        "\n",
        "    print(r'Avg ||\\hat{X}-X||^{2}_2',error)\n",
        "\n",
        "    error_inD=np.linalg.norm((X_transformed1 - dictionary1))/np.linalg.norm(dictionary1)\n",
        "    \n",
        "    print(r'Avg ||\\hat{D}-D||^{2}_F',error_inD)\n",
        "\n",
        "    error_dict_dct[reg_param].append(error_inD)\n",
        "                    \n",
        "    error_in_sparse=np.mean(np.sum((dict_learner.components_ - code1) ** 2,\\\n",
        "                                   axis=1)/np.sum(code1 ** 2, axis=1))\n",
        "\n",
        "    error_code_dct[reg_param].append(error_in_sparse)\n",
        "    print('Relative sparse error', error_in_sparse)\n"
      ],
      "execution_count": null,
      "outputs": [
        {
          "output_type": "stream",
          "name": "stdout",
          "text": [
            "Avg ||\\hat{X}-X||^{2}_2 0.060372407068467894\n",
            "Avg ||\\hat{D}-D||^{2}_F 12.270224001764895\n",
            "Relative sparse error 1.0287504085655235\n",
            "Avg ||\\hat{X}-X||^{2}_2 0.061445329806555406\n",
            "Avg ||\\hat{D}-D||^{2}_F 11.3427758176411\n",
            "Relative sparse error 1.00721572339595\n",
            "Avg ||\\hat{X}-X||^{2}_2 0.050003822088497664\n",
            "Avg ||\\hat{D}-D||^{2}_F 10.708232045750945\n",
            "Relative sparse error 1.0179842625720945\n",
            "Avg ||\\hat{X}-X||^{2}_2 0.0465555776026398\n",
            "Avg ||\\hat{D}-D||^{2}_F 9.874753611112107\n",
            "Relative sparse error 1.007720306517197\n",
            "Avg ||\\hat{X}-X||^{2}_2 0.040507222114660936\n",
            "Avg ||\\hat{D}-D||^{2}_F 9.30696957039188\n",
            "Relative sparse error 1.009627835533662\n",
            "Avg ||\\hat{X}-X||^{2}_2 0.07749530591771422\n",
            "Avg ||\\hat{D}-D||^{2}_F 11.706979071259607\n",
            "Relative sparse error 1.0240445086462788\n",
            "Avg ||\\hat{X}-X||^{2}_2 0.0908450788441432\n",
            "Avg ||\\hat{D}-D||^{2}_F 10.25776132955704\n",
            "Relative sparse error 1.0006630505464524\n",
            "Avg ||\\hat{X}-X||^{2}_2 0.0834663269714328\n",
            "Avg ||\\hat{D}-D||^{2}_F 9.868209651074846\n",
            "Relative sparse error 1.0240044981846954\n",
            "Avg ||\\hat{X}-X||^{2}_2 0.0925130171089681\n",
            "Avg ||\\hat{D}-D||^{2}_F 8.872887021996355\n",
            "Relative sparse error 1.0135600013883983\n",
            "Avg ||\\hat{X}-X||^{2}_2 0.10519447164896523\n",
            "Avg ||\\hat{D}-D||^{2}_F 8.072676773985293\n",
            "Relative sparse error 1.0248010587552288\n"
          ]
        }
      ]
    },
    {
      "cell_type": "code",
      "metadata": {
        "colab": {
          "base_uri": "https://localhost:8080/",
          "height": 17
        },
        "id": "RDXStBFHZkTo",
        "outputId": "91139382-3d5c-4140-88db-5a8285ffe226"
      },
      "source": [
        "np.save(\"error_dct\",error_dct)\n",
        "\n",
        "np.save(\"error_dict_dict\",error_dict_dct)\n",
        "\n",
        "np.save(\"error_code_dct\" ,error_code_dct)\n",
        "\n",
        "files.download(\"error_dct.npy\")\n",
        "\n",
        "files.download(\"error_dict_dict.npy\")\n",
        "\n",
        "files.download(\"error_code_dct.npy\")\n",
        "\n",
        "\n",
        "\n"
      ],
      "execution_count": null,
      "outputs": [
        {
          "output_type": "display_data",
          "data": {
            "application/javascript": [
              "\n",
              "    async function download(id, filename, size) {\n",
              "      if (!google.colab.kernel.accessAllowed) {\n",
              "        return;\n",
              "      }\n",
              "      const div = document.createElement('div');\n",
              "      const label = document.createElement('label');\n",
              "      label.textContent = `Downloading \"${filename}\": `;\n",
              "      div.appendChild(label);\n",
              "      const progress = document.createElement('progress');\n",
              "      progress.max = size;\n",
              "      div.appendChild(progress);\n",
              "      document.body.appendChild(div);\n",
              "\n",
              "      const buffers = [];\n",
              "      let downloaded = 0;\n",
              "\n",
              "      const channel = await google.colab.kernel.comms.open(id);\n",
              "      // Send a message to notify the kernel that we're ready.\n",
              "      channel.send({})\n",
              "\n",
              "      for await (const message of channel.messages) {\n",
              "        // Send a message to notify the kernel that we're ready.\n",
              "        channel.send({})\n",
              "        if (message.buffers) {\n",
              "          for (const buffer of message.buffers) {\n",
              "            buffers.push(buffer);\n",
              "            downloaded += buffer.byteLength;\n",
              "            progress.value = downloaded;\n",
              "          }\n",
              "        }\n",
              "      }\n",
              "      const blob = new Blob(buffers, {type: 'application/binary'});\n",
              "      const a = document.createElement('a');\n",
              "      a.href = window.URL.createObjectURL(blob);\n",
              "      a.download = filename;\n",
              "      div.appendChild(a);\n",
              "      a.click();\n",
              "      div.remove();\n",
              "    }\n",
              "  "
            ],
            "text/plain": [
              "<IPython.core.display.Javascript object>"
            ]
          },
          "metadata": {}
        },
        {
          "output_type": "display_data",
          "data": {
            "application/javascript": [
              "download(\"download_78a1dd57-3ca7-4f9f-b619-499137680c43\", \"error_dct.npy\", 600)"
            ],
            "text/plain": [
              "<IPython.core.display.Javascript object>"
            ]
          },
          "metadata": {}
        },
        {
          "output_type": "display_data",
          "data": {
            "application/javascript": [
              "\n",
              "    async function download(id, filename, size) {\n",
              "      if (!google.colab.kernel.accessAllowed) {\n",
              "        return;\n",
              "      }\n",
              "      const div = document.createElement('div');\n",
              "      const label = document.createElement('label');\n",
              "      label.textContent = `Downloading \"${filename}\": `;\n",
              "      div.appendChild(label);\n",
              "      const progress = document.createElement('progress');\n",
              "      progress.max = size;\n",
              "      div.appendChild(progress);\n",
              "      document.body.appendChild(div);\n",
              "\n",
              "      const buffers = [];\n",
              "      let downloaded = 0;\n",
              "\n",
              "      const channel = await google.colab.kernel.comms.open(id);\n",
              "      // Send a message to notify the kernel that we're ready.\n",
              "      channel.send({})\n",
              "\n",
              "      for await (const message of channel.messages) {\n",
              "        // Send a message to notify the kernel that we're ready.\n",
              "        channel.send({})\n",
              "        if (message.buffers) {\n",
              "          for (const buffer of message.buffers) {\n",
              "            buffers.push(buffer);\n",
              "            downloaded += buffer.byteLength;\n",
              "            progress.value = downloaded;\n",
              "          }\n",
              "        }\n",
              "      }\n",
              "      const blob = new Blob(buffers, {type: 'application/binary'});\n",
              "      const a = document.createElement('a');\n",
              "      a.href = window.URL.createObjectURL(blob);\n",
              "      a.download = filename;\n",
              "      div.appendChild(a);\n",
              "      a.click();\n",
              "      div.remove();\n",
              "    }\n",
              "  "
            ],
            "text/plain": [
              "<IPython.core.display.Javascript object>"
            ]
          },
          "metadata": {}
        },
        {
          "output_type": "display_data",
          "data": {
            "application/javascript": [
              "download(\"download_5e5bd24c-5cfc-4aa2-b900-80273f48b2bd\", \"error_dict_dict.npy\", 600)"
            ],
            "text/plain": [
              "<IPython.core.display.Javascript object>"
            ]
          },
          "metadata": {}
        },
        {
          "output_type": "display_data",
          "data": {
            "application/javascript": [
              "\n",
              "    async function download(id, filename, size) {\n",
              "      if (!google.colab.kernel.accessAllowed) {\n",
              "        return;\n",
              "      }\n",
              "      const div = document.createElement('div');\n",
              "      const label = document.createElement('label');\n",
              "      label.textContent = `Downloading \"${filename}\": `;\n",
              "      div.appendChild(label);\n",
              "      const progress = document.createElement('progress');\n",
              "      progress.max = size;\n",
              "      div.appendChild(progress);\n",
              "      document.body.appendChild(div);\n",
              "\n",
              "      const buffers = [];\n",
              "      let downloaded = 0;\n",
              "\n",
              "      const channel = await google.colab.kernel.comms.open(id);\n",
              "      // Send a message to notify the kernel that we're ready.\n",
              "      channel.send({})\n",
              "\n",
              "      for await (const message of channel.messages) {\n",
              "        // Send a message to notify the kernel that we're ready.\n",
              "        channel.send({})\n",
              "        if (message.buffers) {\n",
              "          for (const buffer of message.buffers) {\n",
              "            buffers.push(buffer);\n",
              "            downloaded += buffer.byteLength;\n",
              "            progress.value = downloaded;\n",
              "          }\n",
              "        }\n",
              "      }\n",
              "      const blob = new Blob(buffers, {type: 'application/binary'});\n",
              "      const a = document.createElement('a');\n",
              "      a.href = window.URL.createObjectURL(blob);\n",
              "      a.download = filename;\n",
              "      div.appendChild(a);\n",
              "      a.click();\n",
              "      div.remove();\n",
              "    }\n",
              "  "
            ],
            "text/plain": [
              "<IPython.core.display.Javascript object>"
            ]
          },
          "metadata": {}
        },
        {
          "output_type": "display_data",
          "data": {
            "application/javascript": [
              "download(\"download_625578ad-7d0d-41c0-919b-b71668e2b364\", \"error_code_dct.npy\", 600)"
            ],
            "text/plain": [
              "<IPython.core.display.Javascript object>"
            ]
          },
          "metadata": {}
        }
      ]
    },
    {
      "cell_type": "code",
      "metadata": {
        "id": "3EAQ6rPtaRQc"
      },
      "source": [
        "error_dct2=np.load(\"error_dct.npy\", allow_pickle=True)[()] \n",
        "\n",
        "error_dict_dct=np.load(\"error_dict_dict.npy\", allow_pickle=True)[()] \n",
        "\n",
        "## Creates a food dct type"
      ],
      "execution_count": null,
      "outputs": []
    },
    {
      "cell_type": "code",
      "metadata": {
        "colab": {
          "base_uri": "https://localhost:8080/"
        },
        "id": "2y58VhUOWcgt",
        "outputId": "3bb1d4e5-6af1-4106-e504-2c2bfcdda1c7"
      },
      "source": [
        "error_dct\n",
        "#len(error_dct[1])"
      ],
      "execution_count": null,
      "outputs": [
        {
          "output_type": "execute_result",
          "data": {
            "text/plain": [
              "{0.0001: [1.2531037847439328,\n",
              "  1.4686415243883488,\n",
              "  1.7184563227459488,\n",
              "  1.7574421010728216,\n",
              "  1.391777128935036],\n",
              " 0.001: [1.2076477630136078,\n",
              "  1.4666124877995779,\n",
              "  1.7135787579794362,\n",
              "  1.6340980964374263,\n",
              "  1.3425767586287294],\n",
              " 0.01: [1.6293728128950633,\n",
              "  1.9309533863459678,\n",
              "  1.6001463066734298,\n",
              "  1.8319007821093822,\n",
              "  1.4027045129355034],\n",
              " 0.1: [1.3448308658263488,\n",
              "  1.4689937968841522,\n",
              "  1.8285027557034605,\n",
              "  1.7747723079174034,\n",
              "  1.5729091762739824],\n",
              " 1: [1.6039205016463494,\n",
              "  1.6410176100675389,\n",
              "  1.5149924124779874,\n",
              "  1.7553021188897469,\n",
              "  1.7482816989557797]}"
            ]
          },
          "metadata": {},
          "execution_count": 20
        }
      ]
    },
    {
      "cell_type": "code",
      "metadata": {
        "id": "ZhnL9W1x1KZJ"
      },
      "source": [
        "error_dct1={0.0001: [0.08545431981614603,\n",
        "  0.09925559600647983,\n",
        "  0.10065065216912868,\n",
        "  0.11073269004818384,\n",
        "  0.1290320595140234],\n",
        " 0.001: [0.07749530591771422,\n",
        "  0.0908450788441432,\n",
        "  0.0834663269714328,\n",
        "  0.0925130171089681,\n",
        "  0.10519447164896523],    \n",
        "  0.01: [0.059864694904619355,\n",
        "  0.06418184877719113,\n",
        "  0.056222979271057516,\n",
        "  0.05115586745867963,\n",
        "  0.0505611296918177],\n",
        " 0.1: [0.05433241154327727,\n",
        "  0.04946950377455229,\n",
        "  0.048945723199539964,\n",
        "  0.03927800474054877,\n",
        "  0.026184420525214348],\n",
        " 1: [0.060372407068467894,\n",
        "  0.061445329806555406,\n",
        "  0.050003822088497664,\n",
        "  0.0465555776026398,\n",
        "  0.040507222114660936]}"
      ],
      "execution_count": null,
      "outputs": []
    },
    {
      "cell_type": "code",
      "metadata": {
        "colab": {
          "base_uri": "https://localhost:8080/",
          "height": 326
        },
        "id": "RFkO_txgseAz",
        "outputId": "f233c97b-e222-4047-dd94-786b92a7c2f2"
      },
      "source": [
        "import matplotlib.pyplot as plt\n",
        "x=n_components_list\n",
        "\n",
        "for reg_p in reg_params_list:\n",
        "  plt.scatter(np.array(x)/20,error_dct[reg_p])\n",
        "  plt.plot(np.array(x)/20,error_dct[reg_p], label=r'$\\lambda=$'+ str(reg_p))\n",
        "  #plt.label(r'$\\lambda=$'+ str(reg_param))\n",
        "\n",
        "plt.ylabel(r\"$MSE_{Y}$\")\n",
        "plt.xlabel(r'$\\alpha=\\frac{M}{N}$')\n",
        "plt.title(r'$\\rho=\\frac{k}{N}=0.5$')\n",
        "\n",
        "plt.legend()"
      ],
      "execution_count": null,
      "outputs": [
        {
          "output_type": "execute_result",
          "data": {
            "text/plain": [
              "<matplotlib.legend.Legend at 0x7f1a4d876310>"
            ]
          },
          "metadata": {},
          "execution_count": 51
        },
        {
          "output_type": "display_data",
          "data": {
            "image/png": "[encoded data removed]",
            "text/plain": [
              "<Figure size 432x288 with 1 Axes>"
            ]
          },
          "metadata": {
            "needs_background": "light"
          }
        }
      ]
    },
    {
      "cell_type": "code",
      "metadata": {
        "colab": {
          "base_uri": "https://localhost:8080/",
          "height": 326
        },
        "id": "4mfbFZdJPvPD",
        "outputId": "f6e30dbd-251f-4dbe-f121-021714b562b5"
      },
      "source": [
        "import matplotlib.pyplot as plt\n",
        "x=n_components_list\n",
        "\n",
        "for reg_p in reg_params_list:\n",
        "  plt.scatter(np.array(x)/20,error_dict_dct[reg_p])\n",
        "  plt.plot(np.array(x)/20,error_dict_dct[reg_p], label=r'$\\lambda=$'+ str(reg_p))\n",
        "  #plt.label(r'$\\lambda=$'+ str(reg_param))\n",
        "\n",
        "plt.ylabel(r\"$|D-\\hat{D}|^{2}_{F}$\")\n",
        "plt.xlabel(r'$\\alpha=\\frac{M}{N}$')\n",
        "plt.title(r'$\\rho=\\frac{k}{N}=0.5$')\n",
        "\n",
        "plt.legend()"
      ],
      "execution_count": null,
      "outputs": [
        {
          "output_type": "execute_result",
          "data": {
            "text/plain": [
              "<matplotlib.legend.Legend at 0x7f1a4d6b0750>"
            ]
          },
          "metadata": {},
          "execution_count": 52
        },
        {
          "output_type": "display_data",
          "data": {
            "image/png": "[encoded data removed]",
            "text/plain": [
              "<Figure size 432x288 with 1 Axes>"
            ]
          },
          "metadata": {
            "needs_background": "light"
          }
        }
      ]
    },
    {
      "cell_type": "code",
      "metadata": {
        "colab": {
          "base_uri": "https://localhost:8080/",
          "height": 326
        },
        "id": "DecoJJyTQF_R",
        "outputId": "997386a0-c1d5-4d0e-f530-0412455eeb54"
      },
      "source": [
        "import matplotlib.pyplot as plt\n",
        "x=n_components_list\n",
        "\n",
        "for reg_p in reg_params_list:\n",
        "  plt.scatter(np.array(x)/20,error_code_dct[reg_p])\n",
        "  plt.plot(np.array(x)/20,error_code_dct[reg_p], label=r'$\\lambda=$'+ str(reg_p))\n",
        "  #plt.label(r'$\\lambda=$'+ str(reg_param))\n",
        "\n",
        "plt.ylabel(r\"Code error $|{X-\\hat{X}}|^{2}$\")\n",
        "plt.xlabel(r'$\\alpha=\\frac{M}{N}$')\n",
        "plt.title(r'$\\rho=\\frac{k}{N}=0.5$')\n",
        "\n",
        "plt.legend()"
      ],
      "execution_count": null,
      "outputs": [
        {
          "output_type": "execute_result",
          "data": {
            "text/plain": [
              "<matplotlib.legend.Legend at 0x7f1a4d172450>"
            ]
          },
          "metadata": {},
          "execution_count": 53
        },
        {
          "output_type": "display_data",
          "data": {
            "image/png": "[encoded data removed]",
            "text/plain": [
              "<Figure size 432x288 with 1 Axes>"
            ]
          },
          "metadata": {
            "needs_background": "light"
          }
        }
      ]
    },
    {
      "cell_type": "code",
      "metadata": {
        "id": "QL6fY_qJ6HgS"
      },
      "source": [
        "import matplotlib.pyplot as plt\n",
        "x=n_components_list\n",
        "\n",
        "for reg_p in [1,0.1,0.01,0.001,0.0001]:\n",
        "  plt.scatter(np.array(x)/20,error_dct1[reg_p])\n",
        "  plt.plot(np.array(x)/20,error_dct1[reg_p], label=r'$\\lambda=$'+ str(reg_p))\n",
        "  #plt.label(r'$\\lambda=$'+ str(reg_param))\n",
        "\n",
        "plt.ylabel(\"MSE\")\n",
        "plt.xlabel(r'$\\alpha=\\frac{M}{N}$')\n",
        "plt.title(r'$\\rho=\\frac{k}{N}=0.5$')\n",
        "\n",
        "plt.legend()"
      ],
      "execution_count": null,
      "outputs": []
    },
    {
      "cell_type": "code",
      "metadata": {
        "colab": {
          "base_uri": "https://localhost:8080/"
        },
        "id": "wVgxUhsiD4Gd",
        "outputId": "0d012990-9019-4471-d048-746a3b526df5"
      },
      "source": [
        "'''\n",
        "## N_samples=200, reg_params_list=[1,0.1,0.01]\n",
        "n_components_list=list(range(10,40,10))\n",
        "n_features1=40\n",
        "n_nonzero_coefs1=10\n",
        "n_samples1=200\n",
        "'''\n",
        "{0.01: [0.13604045016346394, 0.17480854277158006, 0.1500905956229753],\n",
        " 0.1: [0.12522975684416987, 0.14726443443070383, 0.11362646669162765],\n",
        " 1: [0.1385648262817517, 0.18828913224802568, 0.12298650206928159]}\n",
        "\n",
        " ## Note with 35 comp however, the error is significantly low\n",
        "\n",
        " ## Plausible explanation: many permutations are valid: But if its too high\n",
        " ## There aren't a lot of valid perms , thus lower error"
      ],
      "execution_count": null,
      "outputs": [
        {
          "output_type": "execute_result",
          "data": {
            "text/plain": [
              "{0.01: [0.13604045016346394, 0.17480854277158006, 0.1500905956229753],\n",
              " 0.1: [0.12522975684416987, 0.14726443443070383, 0.11362646669162765],\n",
              " 1: [0.1385648262817517, 0.18828913224802568, 0.12298650206928159]}"
            ]
          },
          "metadata": {},
          "execution_count": 32
        }
      ]
    },
    {
      "cell_type": "code",
      "metadata": {
        "colab": {
          "base_uri": "https://localhost:8080/"
        },
        "id": "tLGrmaQ3AF5e",
        "outputId": "1983aaa5-59f2-42a9-a75d-ed33d494a3bb"
      },
      "source": [
        "np.mean(np.sum((X_hat1 - X1) ** 2, axis=1) / np.sum(X1 ** 2, axis=1))"
      ],
      "execution_count": null,
      "outputs": [
        {
          "output_type": "execute_result",
          "data": {
            "text/plain": [
              "0.08181262583176811"
            ]
          },
          "metadata": {},
          "execution_count": 28
        }
      ]
    },
    {
      "cell_type": "markdown",
      "metadata": {
        "id": "u6oOnE41Q6Vq"
      },
      "source": [
        "# Feeding into autoencoder"
      ]
    },
    {
      "cell_type": "markdown",
      "metadata": {
        "id": "JtvJTYCBTKjx"
      },
      "source": [
        "Define trainloader using costum dataset"
      ]
    },
    {
      "cell_type": "code",
      "metadata": {
        "id": "5ACw4hq_TJsP"
      },
      "source": [
        "BatchSize = 100\n",
        "#trainset=X\n",
        "n_samples=100\n",
        "\n",
        "my_x=list(X.reshape(n_samples,input_dim,-1))\n",
        "tensor_x = torch.Tensor(my_x) # transform to torch tensor\n",
        "#tensor_y = torch.Tensor(my_y)\n",
        "\n",
        "my_dataset = TensorDataset(tensor_x) # create your datset\n",
        "#trainloader = DataLoader(my_dataset)\n",
        "\n",
        "trainloader = torch.utils.data.DataLoader(trainset, batch_size=BatchSize,\n",
        "                                         shuffle=True, num_workers=2)\n",
        "\n",
        "#trainloader = torch.utils.data.DataLoader(trainset, batch_size=BatchSize,\n",
        "#                                          shuffle=True, num_workers=2)"
      ],
      "execution_count": null,
      "outputs": []
    },
    {
      "cell_type": "code",
      "metadata": {
        "colab": {
          "base_uri": "https://localhost:8080/"
        },
        "id": "9fs7c6GJJXFL",
        "outputId": "cc2d73b7-44ab-42cd-ea3b-ebe647c707e4"
      },
      "source": [
        "my_x[0].shape\n",
        "print(type(my_x[0]))"
      ],
      "execution_count": null,
      "outputs": [
        {
          "output_type": "stream",
          "text": [
            "<class 'numpy.ndarray'>\n"
          ],
          "name": "stdout"
        }
      ]
    },
    {
      "cell_type": "code",
      "metadata": {
        "colab": {
          "base_uri": "https://localhost:8080/"
        },
        "id": "FKgNgsfJQ9U1",
        "outputId": "af27e2e9-8a71-4ff5-ade7-d17ed380eec7"
      },
      "source": [
        "import torch\n",
        "import torch.nn as nn\n",
        "\n",
        "\n",
        "\n",
        "## takes in a module and applies the specified weight initialization\n",
        "def weights_init_normal(m):\n",
        "    '''Takes in a module and initializes all linear layers with weight\n",
        "       values taken from a normal distribution.'''\n",
        "\n",
        "    classname = m.__class__.__name__\n",
        "    # for every Linear layer in a model\n",
        "    if classname.find('Linear') != -1:\n",
        "        y = m.in_features\n",
        "    # m.weight.data shoud be taken from a normal distribution\n",
        "        m.weight.data.normal_(0.0,1/np.sqrt(y))\n",
        "    # m.bias.data should be 0\n",
        "        m.bias.data.fill_(0)\n",
        "\n",
        "\n",
        "def init_weights(m):\n",
        "    if isinstance(m, nn.Linear):\n",
        "        torch.nn.init.xavier_uniform_(m.weight)\n",
        "\n",
        "\n",
        "class Autoencoder(nn.Module):\n",
        "    def __init__(self,width, input_dim):\n",
        "\n",
        "\n",
        "        super(Autoencoder, self).__init__()\n",
        "\n",
        "\n",
        "        #N 784 (28 by 28)\n",
        "        n=width # number of internal nodes\n",
        "        self.encoder =nn.Sequential(\n",
        "            nn.Linear(input_dim, n),\n",
        "            #nn.Linear(28*28, 128),\n",
        "            nn.Tanh() \n",
        "            #nn.ReLU(),\n",
        "        )\n",
        "        self.decoder =nn.Sequential(\n",
        "            nn.Linear(n, input_dim), # 3 -> N, 784\n",
        "            ## Another activation function\n",
        "            nn.Sigmoid() #if 0 to 1 \n",
        "            #nn.Tanh() #if -1 to 1\n",
        "        )\n",
        "\n",
        "    def forward(self,x):\n",
        "        x = self.encoder(x)        \n",
        "        x = self.decoder(x)\n",
        "        return x\n",
        "\n",
        "    \n",
        "#Note:[-1,1] -> Apply tanh\n",
        "## Normalization\n",
        "\n",
        "\n",
        "width=15\n",
        "\n",
        "input_dim=20\n",
        "net = Autoencoder(width, input_dim)\n",
        "\n",
        "#net = net.float()\n",
        "#net = net.double()\n",
        "\n",
        "\n",
        "'''\n",
        " Two different kind of initialization \n",
        "Since we will work with single layer type architecture\\\n",
        " using glorot-like architecture isn't necessary\n",
        "\n",
        "'''\n",
        "#net.apply(init_weights)\n",
        "\n",
        "#net.apply(weights_init_normal)\n",
        "\n",
        "print(net)\n",
        "\n",
        "## Making this change to accomodate double\n",
        "#net = net.double()\n",
        "\n",
        "init_weightsE = copy.deepcopy(net.encoder[0].weight.data)\n",
        "init_weightsD = copy.deepcopy(net.decoder[0].weight.data)"
      ],
      "execution_count": null,
      "outputs": [
        {
          "output_type": "stream",
          "text": [
            "Autoencoder(\n",
            "  (encoder): Sequential(\n",
            "    (0): Linear(in_features=20, out_features=15, bias=True)\n",
            "    (1): Tanh()\n",
            "  )\n",
            "  (decoder): Sequential(\n",
            "    (0): Linear(in_features=15, out_features=20, bias=True)\n",
            "    (1): Sigmoid()\n",
            "  )\n",
            ")\n"
          ],
          "name": "stdout"
        }
      ]
    },
    {
      "cell_type": "code",
      "metadata": {
        "id": "2rbsSRG5RT8q"
      },
      "source": [
        "def sparse_loss(autoencoder, images):\n",
        "    loss = 0\n",
        "    values = images\n",
        "    for i in range(len(model_children)):\n",
        "        values = (model_children[i](values))\n",
        "        loss += torch.mean(torch.abs(values))\n",
        "    return loss"
      ],
      "execution_count": null,
      "outputs": []
    },
    {
      "cell_type": "code",
      "metadata": {
        "id": "EOrmOrOASsdW"
      },
      "source": [
        "iterations=50\n",
        "num_epochs=iterations\n",
        "\n",
        "#reg_param = 0.01 # sparsity factor\n",
        "\n",
        "reg_param =1.0\n",
        "\n",
        "\n",
        "#reg=\"0\"\n",
        "#reg=\"1e-2\"\n",
        "\n",
        "\n",
        "\n",
        "width_list=[25]\n",
        "\n",
        "\n",
        "\n",
        "#width_list=[10,50,100,400,1000]\n",
        "\n",
        "#width_list=[10,100,1000,10000,50000,100000]\n",
        "\n",
        "#width_list\n",
        "\n",
        "criterion=nn.MSELoss()\n",
        "\n",
        "#optimizer= torch.optim.Adam(model.parameters(), lr=1e-3, weight_decay=1e-5)\n",
        "\n",
        "list_init_weightE=[]\n",
        "list_init_weightD=[]\n",
        "# init_weightsE = copy.deepcopy(net.encoder[0].weight.data)\n",
        "# init_weightsD = copy.deepcopy(net.decoder[0].weight.data)\n"
      ],
      "execution_count": null,
      "outputs": []
    },
    {
      "cell_type": "code",
      "metadata": {
        "colab": {
          "base_uri": "https://localhost:8080/"
        },
        "id": "kxJ133YbS5la",
        "outputId": "adc56124-7a90-4b41-ab31-ea4538395fc8"
      },
      "source": [
        "for width in width_list:\n",
        "\n",
        "  model = Autoencoder(width, input_dim)\n",
        "  #net = net.float()\n",
        "  #net = net.double()\n",
        "\n",
        "\n",
        "  init_weightsE = copy.deepcopy(model.encoder[0].weight.data)\n",
        "  init_weightsD = copy.deepcopy(model.decoder[0].weight.data)\n",
        "\n",
        "  list_init_weightE.append(init_weightsE )\n",
        "  list_init_weightD.append(list_init_weightD)\n",
        "\n",
        "  model_children = list(model.children())\n",
        "\n",
        "\n",
        "  optimizer= torch.optim.Adam(model.parameters(), lr=1e-1, weight_decay=1e-5)\n",
        "\n",
        "  for epoch in range(iterations):  # loop over the dataset multiple times\n",
        "      runningLoss = 0.0\n",
        "      model.train()\n",
        "      #for data in trainloader:\n",
        "          \n",
        "\n",
        "      for img in trainloader:\n",
        "        # get the inputs\n",
        "        img=img.float()\n",
        "        img=img.reshape(-1,input_dim)#.double() \n",
        "        \n",
        "        #print(img.shape, recon.shape)\n",
        "        recon=model(img)\n",
        "\n",
        "        #loss= criterion(recon, img)\n",
        "        mse_loss= criterion(recon, img)\n",
        "        loss = mse_loss + reg_param * sparse_loss(model, img)\n",
        "\n",
        "        optimizer.zero_grad() # zeroes the gradient buffers of all parameters\n",
        "\n",
        "        loss.backward()\n",
        "\n",
        "        optimizer.step()\n",
        "\n",
        "      print(f'At epoch: {epoch+1}/{iterations}, ; Loss:{loss.item():.4f}')\n",
        "      \n",
        "      #### Saving checkpoint ###\n",
        "      '''\n",
        "      checkpoint={'state_dict': model.state_dict(), 'optinizer':optimizer.state_dict()}\n",
        "      filename=\"model_1e-2reg\"+str(width)\n",
        "      save_checkpoint(checkpoint, filename)\n",
        "      '''\n",
        "\n",
        "  #reg=\"0\"\n",
        "  #reg=\"1e-2\"\n",
        "\n",
        "  #PATH=\"/content/MyDrive/My Drive/Auto_An/Checkpoints/\"+reg+str(width)\n",
        "  #torch.save(model, PATH)\n",
        "                                                            \n",
        "      \n",
        "  print('Finished Training with width %d'%(width))\n",
        "\n"
      ],
      "execution_count": null,
      "outputs": [
        {
          "output_type": "stream",
          "text": [
            "At epoch: 1/50, ; Loss:1.6609\n",
            "At epoch: 2/50, ; Loss:1.4267\n",
            "At epoch: 3/50, ; Loss:1.2307\n",
            "At epoch: 4/50, ; Loss:1.0287\n",
            "At epoch: 5/50, ; Loss:0.9039\n",
            "At epoch: 6/50, ; Loss:0.8648\n",
            "At epoch: 7/50, ; Loss:0.8572\n",
            "At epoch: 8/50, ; Loss:0.8503\n",
            "At epoch: 9/50, ; Loss:0.8366\n",
            "At epoch: 10/50, ; Loss:0.8168\n",
            "At epoch: 11/50, ; Loss:0.7992\n",
            "At epoch: 12/50, ; Loss:0.7822\n",
            "At epoch: 13/50, ; Loss:0.7633\n",
            "At epoch: 14/50, ; Loss:0.7453\n",
            "At epoch: 15/50, ; Loss:0.7297\n",
            "At epoch: 16/50, ; Loss:0.7184\n",
            "At epoch: 17/50, ; Loss:0.7115\n",
            "At epoch: 18/50, ; Loss:0.7020\n",
            "At epoch: 19/50, ; Loss:0.6920\n",
            "At epoch: 20/50, ; Loss:0.6832\n",
            "At epoch: 21/50, ; Loss:0.6770\n",
            "At epoch: 22/50, ; Loss:0.6698\n",
            "At epoch: 23/50, ; Loss:0.6659\n",
            "At epoch: 24/50, ; Loss:0.6604\n",
            "At epoch: 25/50, ; Loss:0.6556\n",
            "At epoch: 26/50, ; Loss:0.6507\n",
            "At epoch: 27/50, ; Loss:0.6468\n",
            "At epoch: 28/50, ; Loss:0.6433\n",
            "At epoch: 29/50, ; Loss:0.6390\n",
            "At epoch: 30/50, ; Loss:0.6342\n",
            "At epoch: 31/50, ; Loss:0.6304\n",
            "At epoch: 32/50, ; Loss:0.6299\n",
            "At epoch: 33/50, ; Loss:0.6262\n",
            "At epoch: 34/50, ; Loss:0.6238\n",
            "At epoch: 35/50, ; Loss:0.6231\n",
            "At epoch: 36/50, ; Loss:0.6200\n",
            "At epoch: 37/50, ; Loss:0.6183\n",
            "At epoch: 38/50, ; Loss:0.6163\n",
            "At epoch: 39/50, ; Loss:0.6140\n",
            "At epoch: 40/50, ; Loss:0.6130\n",
            "At epoch: 41/50, ; Loss:0.6115\n",
            "At epoch: 42/50, ; Loss:0.6103\n",
            "At epoch: 43/50, ; Loss:0.6088\n",
            "At epoch: 44/50, ; Loss:0.6066\n",
            "At epoch: 45/50, ; Loss:0.6073\n",
            "At epoch: 46/50, ; Loss:0.6053\n",
            "At epoch: 47/50, ; Loss:0.6052\n",
            "At epoch: 48/50, ; Loss:0.6069\n",
            "At epoch: 49/50, ; Loss:0.6097\n",
            "At epoch: 50/50, ; Loss:0.6077\n",
            "Finished Training with width 25\n"
          ],
          "name": "stdout"
        }
      ]
    },
    {
      "cell_type": "code",
      "metadata": {
        "id": "_KCwcnvVS8oH"
      },
      "source": [
        "recon_list=[]\n",
        "for (img) in trainloader:\n",
        "  # get the inputs\n",
        "  img=img.float()\n",
        "  img=img.reshape(-1,input_dim)#.double() \n",
        "  \n",
        "  #print(img.shape)\n",
        "  recon=model(img)\n",
        "  recon_list.append(recon)\n"
      ],
      "execution_count": null,
      "outputs": []
    },
    {
      "cell_type": "code",
      "metadata": {
        "id": "1cfyLvIoIzoO"
      },
      "source": [
        "X_auto=recon_list[0].reshape(input_dim,-1).detach().numpy()"
      ],
      "execution_count": null,
      "outputs": []
    },
    {
      "cell_type": "code",
      "metadata": {
        "colab": {
          "base_uri": "https://localhost:8080/"
        },
        "id": "9rbsr6riI-bA",
        "outputId": "09ce0aa3-6870-40c7-fc52-5035d783ee9e"
      },
      "source": [
        "len(recon_list)"
      ],
      "execution_count": null,
      "outputs": [
        {
          "output_type": "execute_result",
          "data": {
            "text/plain": [
              "1"
            ]
          },
          "metadata": {
            "tags": []
          },
          "execution_count": 179
        }
      ]
    },
    {
      "cell_type": "code",
      "metadata": {
        "colab": {
          "base_uri": "https://localhost:8080/"
        },
        "id": "gQpHMTUuNjdu",
        "outputId": "2d1ed9c8-7a09-48fa-eda2-082f33202a5e"
      },
      "source": [
        "np.mean(np.sum((X_hat - X) ** 2, axis=1) / np.sum(X ** 2, axis=1))"
      ],
      "execution_count": null,
      "outputs": [
        {
          "output_type": "execute_result",
          "data": {
            "text/plain": [
              "0.07501460628373915"
            ]
          },
          "metadata": {
            "tags": []
          },
          "execution_count": 180
        }
      ]
    },
    {
      "cell_type": "code",
      "metadata": {
        "colab": {
          "base_uri": "https://localhost:8080/"
        },
        "id": "FcEPM5QfOz7Q",
        "outputId": "57047726-f0a6-4115-af2a-d66f07bcc0c5"
      },
      "source": [
        "X.shape"
      ],
      "execution_count": null,
      "outputs": [
        {
          "output_type": "execute_result",
          "data": {
            "text/plain": [
              "(20, 100)"
            ]
          },
          "metadata": {
            "tags": []
          },
          "execution_count": 181
        }
      ]
    },
    {
      "cell_type": "code",
      "metadata": {
        "colab": {
          "base_uri": "https://localhost:8080/"
        },
        "id": "BL3tHn18QB4l",
        "outputId": "d12f4360-6b4e-4bd7-d601-ed4221755a92"
      },
      "source": [
        "print('Distance from X',np.mean(np.sum((X_auto - X) ** 2, axis=1) / np.sum(X ** 2, axis=1)))\n",
        "print('Distance from X_hat',np.mean(np.sum((X_auto - X_hat) ** 2, axis=1) / np.sum(X ** 2, axis=1)))\n"
      ],
      "execution_count": null,
      "outputs": [
        {
          "output_type": "stream",
          "text": [
            "Distance from X 1.001753039857144\n",
            "Distance from X_hat 0.6690740819489844\n"
          ],
          "name": "stdout"
        }
      ]
    },
    {
      "cell_type": "markdown",
      "metadata": {
        "id": "GMdeSCgzQF-B"
      },
      "source": [
        "Width of Autoenc=15 (same as components)\n",
        "\n",
        "With no regularization <br>\n",
        "Distance from X 1.3123950827266693\n",
        "Distance from X_hat 0.9773240026539556"
      ]
    },
    {
      "cell_type": "markdown",
      "metadata": {
        "id": "ZBbymFLOQfzv"
      },
      "source": [
        "With egularization=1.0 <br>\n",
        "Distance from X 1.0048371869391701\n",
        "Distance from X_hat 0.6716589080743648"
      ]
    },
    {
      "cell_type": "code",
      "metadata": {
        "colab": {
          "base_uri": "https://localhost:8080/"
        },
        "id": "2F8Xd7cgOtjw",
        "outputId": "9c121230-f4bf-4285-8bf8-f72135590e7c"
      },
      "source": [
        "print('Distance from X',np.mean(np.sum((X_auto - X) ** 2, axis=1) / np.sum(X ** 2, axis=1)))\n",
        "print('Distance from X_hat',np.mean(np.sum((X_auto - X_hat) ** 2, axis=1) / np.sum(X ** 2, axis=1)))\n"
      ],
      "execution_count": null,
      "outputs": [
        {
          "output_type": "stream",
          "text": [
            "Distance from X 1.3123950827266693\n",
            "Distance from X_hat 0.9773240026539556\n"
          ],
          "name": "stdout"
        }
      ]
    },
    {
      "cell_type": "code",
      "metadata": {
        "colab": {
          "base_uri": "https://localhost:8080/"
        },
        "id": "mil29BV4O9xc",
        "outputId": "cd98964a-7a38-4dfa-a000-811795816e7c"
      },
      "source": [
        "## Boundary condition\n",
        "np.mean(np.sum((X) ** 2, axis=1) / np.sum(X ** 2, axis=1))"
      ],
      "execution_count": null,
      "outputs": [
        {
          "output_type": "execute_result",
          "data": {
            "text/plain": [
              "1.0"
            ]
          },
          "metadata": {
            "tags": []
          },
          "execution_count": 111
        }
      ]
    },
    {
      "cell_type": "code",
      "metadata": {
        "id": "vBgycJ-fPU9f"
      },
      "source": [
        ""
      ],
      "execution_count": null,
      "outputs": []
    }
  ]
}